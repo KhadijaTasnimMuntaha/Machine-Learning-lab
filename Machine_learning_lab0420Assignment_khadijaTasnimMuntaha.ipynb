{
  "nbformat": 4,
  "nbformat_minor": 0,
  "metadata": {
    "colab": {
      "provenance": [],
      "authorship_tag": "ABX9TyMhnZuh9gFUSsWcjxD3WftA",
      "include_colab_link": true
    },
    "kernelspec": {
      "name": "python3",
      "display_name": "Python 3"
    },
    "language_info": {
      "name": "python"
    }
  },
  "cells": [
    {
      "cell_type": "markdown",
      "metadata": {
        "id": "view-in-github",
        "colab_type": "text"
      },
      "source": [
        "<a href=\"https://colab.research.google.com/github/KhadijaTasnimMuntaha/Machine-Learning-lab/blob/main/Machine_learning_lab0420Assignment_khadijaTasnimMuntaha.ipynb\" target=\"_parent\"><img src=\"https://colab.research.google.com/assets/colab-badge.svg\" alt=\"Open In Colab\"/></a>"
      ]
    },
    {
      "cell_type": "code",
      "execution_count": null,
      "metadata": {
        "colab": {
          "base_uri": "https://localhost:8080/"
        },
        "id": "Q49IoTaSBE2s",
        "outputId": "7ce7d66c-6347-4373-a131-6da62a605a70"
      },
      "outputs": [
        {
          "output_type": "stream",
          "name": "stdout",
          "text": [
            "True\n"
          ]
        }
      ],
      "source": [
        "#function example armstrong number\n",
        "def is_armstrong(number):\n",
        "\n",
        "    digits = str(number)\n",
        "    num_digits = len(digits)\n",
        "\n",
        "    total = sum(int(digit) ** num_digits for digit in digits)\n",
        "    # Check if the total equals the original number\n",
        "    return total == number\n",
        "\n",
        "\n",
        "print(is_armstrong(153))"
      ]
    },
    {
      "cell_type": "code",
      "source": [
        "#from lec 7 importing modules\n",
        "from datetime import datetime\n",
        "\n",
        "def current_datetime():\n",
        "\n",
        "    now = datetime.now()\n",
        "    return now.strftime(\"%Y-%m-%d %H:%M:%S\")\n",
        "\n",
        "print(current_datetime())\n"
      ],
      "metadata": {
        "colab": {
          "base_uri": "https://localhost:8080/"
        },
        "id": "0PoFnNK3BlzP",
        "outputId": "cd6f8a4f-7790-4f80-ef44-cf43ea07d983"
      },
      "execution_count": null,
      "outputs": [
        {
          "output_type": "stream",
          "name": "stdout",
          "text": [
            "2025-06-25 02:59:29\n"
          ]
        }
      ]
    },
    {
      "cell_type": "code",
      "source": [
        "#from lec 8 recursive method by divde and conquer method\n",
        "\n",
        "def find_max(arr):\n",
        "\n",
        "\n",
        "    if len(arr) == 1:\n",
        "        return arr[0]\n",
        "    else:\n",
        "        # Divide the list into two halves\n",
        "        mid = len(arr) // 2\n",
        "        left_max = find_max(arr[:mid])\n",
        "        right_max = find_max(arr[mid:])\n",
        "        # Combine: return the maximum of the two\n",
        "        return max(left_max, right_max)\n",
        "\n",
        "lst = [8, 3, 10, 7, 15, 2, 19, 1, 39,68,91,23,30]\n",
        "print(find_max(lst))"
      ],
      "metadata": {
        "colab": {
          "base_uri": "https://localhost:8080/"
        },
        "id": "PUmeS3e9BsXO",
        "outputId": "306714e4-ba33-4208-f520-37c452e0fb1c"
      },
      "execution_count": null,
      "outputs": [
        {
          "output_type": "stream",
          "name": "stdout",
          "text": [
            "91\n"
          ]
        }
      ]
    },
    {
      "cell_type": "code",
      "source": [
        "#lec9 from given slide hw\n",
        "#  Create a list of 10 integers\n",
        "numbers = [5, 12, 7, 19, 3, 22, 1, 8, 14, 10]\n",
        "print(\"Original list:\", numbers)\n",
        "\n",
        "#  Append an element to the list\n",
        "numbers.append(25)\n",
        "print(\"After appending 25:\", numbers)\n",
        "\n",
        "#  Insert an element at a specific position\n",
        "numbers.insert(3, 99)\n",
        "print(\"After inserting 99 at index 3:\", numbers)\n",
        "\n",
        "#  Remove an element from the list (e.g., remove the number 22)\n",
        "numbers.remove(22)\n",
        "print(\"After removing 22:\", numbers)\n",
        "\n",
        "# Pop an element from a specific position (e.g., index 5)\n",
        "popped_element = numbers.pop(5)\n",
        "print(f\"After popping element at index 5 ({popped_element}):\", numbers)\n",
        "\n"
      ],
      "metadata": {
        "colab": {
          "base_uri": "https://localhost:8080/"
        },
        "id": "FvRhgoMnBz6F",
        "outputId": "3da8fda9-ca36-4bda-efaf-590709f6cc1e"
      },
      "execution_count": null,
      "outputs": [
        {
          "output_type": "stream",
          "name": "stdout",
          "text": [
            "Original list: [5, 12, 7, 19, 3, 22, 1, 8, 14, 10]\n",
            "After appending 25: [5, 12, 7, 19, 3, 22, 1, 8, 14, 10, 25]\n",
            "After inserting 99 at index 3: [5, 12, 7, 99, 19, 3, 22, 1, 8, 14, 10, 25]\n",
            "After removing 22: [5, 12, 7, 99, 19, 3, 1, 8, 14, 10, 25]\n",
            "After popping element at index 5 (3): [5, 12, 7, 99, 19, 1, 8, 14, 10, 25]\n"
          ]
        }
      ]
    },
    {
      "cell_type": "code",
      "source": [
        "#lec 10\n",
        "class Student:\n",
        "\n",
        "    def __init__(self, name, marks):\n",
        "        self.name = name\n",
        "        self.marks = marks\n",
        "\n",
        "\n",
        "    def display(self):\n",
        "        print(f\"Name: {self.name}, Marks: {self.marks}\")\n",
        "\n",
        "    def has_passed(self):\n",
        "        if self.marks >= 40:\n",
        "            print(f\"{self.name} has passed!\")\n",
        "        else:\n",
        "            print(f\"{self.name} has failed.\")\n",
        "\n",
        "\n",
        "student1 = Student(\"Alvi\", 75)\n",
        "student2 = Student(\"Muntaha \", 70)\n",
        "\n",
        "\n",
        "student1.display()\n",
        "student1.has_passed()\n",
        "\n",
        "student2.display()\n",
        "student2.has_passed()\n"
      ],
      "metadata": {
        "colab": {
          "base_uri": "https://localhost:8080/"
        },
        "id": "frHqsYRxB6nd",
        "outputId": "02c1bf6e-8950-467f-ec55-85e060889a89"
      },
      "execution_count": null,
      "outputs": [
        {
          "output_type": "stream",
          "name": "stdout",
          "text": [
            "Name: Alvi, Marks: 75\n",
            "Alvi has passed!\n",
            "Name: Muntaha , Marks: 70\n",
            "Muntaha  has passed!\n"
          ]
        }
      ]
    },
    {
      "cell_type": "code",
      "source": [
        "#from ch:1 two pronlems\n",
        "#problem 1 variable and literal\n",
        "\n",
        "x = 40\n",
        "y = 25.9\n",
        "\n",
        "m=\"muntaha\"\n",
        "print(m)\n",
        "print(type((m)))\n",
        "\n",
        "\n",
        "z = x+y\n",
        "\n",
        "print( 'result', z)\n",
        "print( 'data type ', type(z))\n",
        "print('datatype', type(x))\n",
        "\n",
        "\n",
        "#problem 2\n",
        "\n",
        "a = int(input('enter the 1st number:' ))\n",
        "b = int (input('enter the 2nd number:'))\n",
        "\n",
        "print('sum', a+b)\n",
        "print('sub', a-b)\n",
        "print('mul',a*b)\n",
        "print('div',a/b)"
      ],
      "metadata": {
        "colab": {
          "base_uri": "https://localhost:8080/"
        },
        "id": "IXPtWwWPP4nA",
        "outputId": "68b0f280-0a4c-49ac-a848-4cb2d1a887e6"
      },
      "execution_count": 10,
      "outputs": [
        {
          "output_type": "stream",
          "name": "stdout",
          "text": [
            "muntaha\n",
            "<class 'str'>\n",
            "result 65.9\n",
            "data type  <class 'float'>\n",
            "datatype <class 'int'>\n",
            "enter the 1st number:30\n",
            "enter the 2nd number:20\n",
            "sum 50\n",
            "sub 10\n",
            "mul 600\n",
            "div 1.5\n"
          ]
        }
      ]
    },
    {
      "cell_type": "code",
      "source": [
        "#from ch-2 two problems\n",
        "#if else conditions\n",
        "\n",
        "char = input(\"Enter a  letter: \")\n",
        "char_lower = char.lower()\n",
        "\n",
        "if char_lower == 'a':\n",
        "    print(f\"'{char}' is a vowel.\")\n",
        "elif char_lower == 'e':\n",
        "    print(f\"'{char}' is a vowel.\")\n",
        "elif char_lower == 'i':\n",
        "    print(f\"'{char}' is a vowel.\")\n",
        "elif char_lower == 'o':\n",
        "    print(f\"'{char}' is a vowel.\")\n",
        "elif char_lower == 'u':\n",
        "    print(f\"'{char}' is a vowel.\")\n",
        "else:\n",
        "    print(f\"'{char}' is a consonant.\")\n",
        "\n",
        "#prblm 2\n",
        "number_str = input(\"Enter a  number: \")\n",
        "number = int(number_str)\n",
        "\n",
        "if number > 0:\n",
        "    print(\"The number is positive.\")\n",
        "elif number < 0:\n",
        "    print(\"The number is negative.\")\n",
        "else:\n",
        "    print(\"The number is zero.\")\n",
        "\n"
      ],
      "metadata": {
        "colab": {
          "base_uri": "https://localhost:8080/"
        },
        "id": "WNDouoM3QocB",
        "outputId": "675ea876-f7ed-432e-d196-7153cad9f6af"
      },
      "execution_count": 11,
      "outputs": [
        {
          "output_type": "stream",
          "name": "stdout",
          "text": [
            "Enter a  letter: m\n",
            "'m' is a consonant.\n",
            "Enter a  number: 45\n",
            "The number is positive.\n"
          ]
        }
      ]
    },
    {
      "cell_type": "code",
      "source": [
        "#from ch-3 two problems\n",
        "\n",
        "#prblm 1\n",
        "secret_number = 7\n",
        "guess = 0\n",
        "print(\"Guess the secret number between 1 and 10\")\n",
        "\n",
        "while guess != secret_number:\n",
        "    guess_str = input(\"Enter your guess: \")\n",
        "    guess = int(guess_str)\n",
        "    if guess != secret_number:\n",
        "        print(\"Wrong guess, try again!\")\n",
        "\n",
        "print(\"Congratulations! You guessed the secret number!\")\n",
        "\n",
        "#prblm2\n",
        "count = 5\n",
        "\n",
        "print(\"Start countdown:\")\n",
        "while count > 0:\n",
        "    print(count)\n",
        "    count = count - 1\n",
        "    if count == 0:\n",
        "        print(\"Countdown complete\")\n",
        "\n"
      ],
      "metadata": {
        "colab": {
          "base_uri": "https://localhost:8080/"
        },
        "id": "iTdudz3qQ5vn",
        "outputId": "7e910bf9-71dd-4962-f1e4-fd05434e1f3f"
      },
      "execution_count": 14,
      "outputs": [
        {
          "output_type": "stream",
          "name": "stdout",
          "text": [
            "Guess the secret number between 1 and 10\n",
            "Enter your guess: 7\n",
            "Congratulations! You guessed the secret number!\n",
            "Start countdown:\n",
            "5\n",
            "4\n",
            "3\n",
            "2\n",
            "1\n",
            "Countdown complete\n"
          ]
        }
      ]
    },
    {
      "cell_type": "code",
      "source": [
        "#ch4 prblm no 1\n",
        "\n",
        "\n",
        "\n",
        "fruits = [\"apple\", \"banana\",\"cherry\",\"mango\"]\n",
        "print(f\"fruits: {fruits}\")\n",
        "\n",
        "\n",
        "fruits.append(\"cherry\")\n",
        "print(f\"Fruits after append: {fruits}\")\n",
        "\n",
        "fruits.remove(\"banana\")\n",
        "print(f\"Fruits after remove: {fruits}\")\n",
        "fruits.insert(1, \"orange\")\n",
        "print(f\"Fruits after insert: {fruits}\")\n",
        "\n",
        "#prblm 2 in this different types of dt empty list are checked\n",
        "\n",
        "\n",
        "ages = [22, 35, 18, 40]\n",
        "print(f\"Ages: {ages}\")\n",
        "\n",
        "mixed_list = [\"text\", 123, 3.14, True]\n",
        "print(f\"Mixed list: {mixed_list}\")\n",
        "\n",
        "\n",
        "empty_list = []\n",
        "print(f\"Empty list: {empty_list}\")\n",
        "\n",
        "\n",
        "\n"
      ],
      "metadata": {
        "colab": {
          "base_uri": "https://localhost:8080/"
        },
        "id": "cfInJtvJRcbo",
        "outputId": "be4834c5-27ec-4be9-9d29-944731b6f4cc"
      },
      "execution_count": 15,
      "outputs": [
        {
          "output_type": "stream",
          "name": "stdout",
          "text": [
            "fruits: ['apple', 'banana', 'cherry', 'mango']\n",
            "Fruits after append: ['apple', 'banana', 'cherry', 'mango', 'cherry']\n",
            "Fruits after remove: ['apple', 'cherry', 'mango', 'cherry']\n",
            "Fruits after insert: ['apple', 'orange', 'cherry', 'mango', 'cherry']\n",
            "Ages: [22, 35, 18, 40]\n",
            "Mixed list: ['text', 123, 3.14, True]\n",
            "Empty list: []\n"
          ]
        }
      ]
    },
    {
      "cell_type": "code",
      "source": [
        "# 2 problem from ch-5\n",
        "# pblm 1 creating  dictionary\n",
        "person = {\n",
        "    \"name\": \"mun\",\n",
        "    \"age\": 30,\n",
        "    \"city\": \"Dhaka\"\n",
        "}\n",
        "print(\"about person\")\n",
        "print(f\"Person: {person}\")\n",
        "print(f\"Type of person: {type(person)}\")\n",
        "\n",
        "#problm 2\n",
        "student = {\n",
        "    \"name\": \"muntaha\",\n",
        "    \"grade\": \"A\",\n",
        "    \"age\": 23,\n",
        "    \"is_enrolled\": True,\n",
        "    \"courses\": [\"Math\", \"Science\", \"History\"]\n",
        "}\n",
        "\n",
        "print(f\"Student: {student}\")\n",
        "print(\"\\n\")"
      ],
      "metadata": {
        "colab": {
          "base_uri": "https://localhost:8080/"
        },
        "id": "A6GjEJI7Rk6P",
        "outputId": "86015e4d-eb22-47c4-bb40-3f2b4058ff7b"
      },
      "execution_count": 16,
      "outputs": [
        {
          "output_type": "stream",
          "name": "stdout",
          "text": [
            "about person\n",
            "Person: {'name': 'mun', 'age': 30, 'city': 'Dhaka'}\n",
            "Type of person: <class 'dict'>\n",
            "Student: {'name': 'muntaha', 'grade': 'A', 'age': 23, 'is_enrolled': True, 'courses': ['Math', 'Science', 'History']}\n",
            "\n",
            "\n"
          ]
        }
      ]
    },
    {
      "cell_type": "code",
      "source": [],
      "metadata": {
        "id": "bVpXPBepRqRn"
      },
      "execution_count": null,
      "outputs": []
    }
  ]
}