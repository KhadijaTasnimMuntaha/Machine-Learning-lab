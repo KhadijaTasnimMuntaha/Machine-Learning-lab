{
  "nbformat": 4,
  "nbformat_minor": 0,
  "metadata": {
    "colab": {
      "provenance": [],
      "authorship_tag": "ABX9TyMBmj6WDsEx/i4SDLqMNNmV",
      "include_colab_link": true
    },
    "kernelspec": {
      "name": "python3",
      "display_name": "Python 3"
    },
    "language_info": {
      "name": "python"
    }
  },
  "cells": [
    {
      "cell_type": "markdown",
      "metadata": {
        "id": "view-in-github",
        "colab_type": "text"
      },
      "source": [
        "<a href=\"https://colab.research.google.com/github/KhadijaTasnimMuntaha/Machine-Learning-lab/blob/main/ml_lab_assignment.ipynb\" target=\"_parent\"><img src=\"https://colab.research.google.com/assets/colab-badge.svg\" alt=\"Open In Colab\"/></a>"
      ]
    },
    {
      "cell_type": "code",
      "execution_count": 1,
      "metadata": {
        "colab": {
          "base_uri": "https://localhost:8080/"
        },
        "id": "Q49IoTaSBE2s",
        "outputId": "7ce7d66c-6347-4373-a131-6da62a605a70"
      },
      "outputs": [
        {
          "output_type": "stream",
          "name": "stdout",
          "text": [
            "True\n"
          ]
        }
      ],
      "source": [
        "#function example armstrong number\n",
        "def is_armstrong(number):\n",
        "\n",
        "    digits = str(number)\n",
        "    num_digits = len(digits)\n",
        "\n",
        "    total = sum(int(digit) ** num_digits for digit in digits)\n",
        "    # Check if the total equals the original number\n",
        "    return total == number\n",
        "\n",
        "\n",
        "print(is_armstrong(153))"
      ]
    },
    {
      "cell_type": "code",
      "source": [
        "#from lec 7 importing modules\n",
        "from datetime import datetime\n",
        "\n",
        "def current_datetime():\n",
        "\n",
        "    now = datetime.now()\n",
        "    return now.strftime(\"%Y-%m-%d %H:%M:%S\")\n",
        "\n",
        "print(current_datetime())\n"
      ],
      "metadata": {
        "colab": {
          "base_uri": "https://localhost:8080/"
        },
        "id": "0PoFnNK3BlzP",
        "outputId": "cd6f8a4f-7790-4f80-ef44-cf43ea07d983"
      },
      "execution_count": 2,
      "outputs": [
        {
          "output_type": "stream",
          "name": "stdout",
          "text": [
            "2025-06-25 02:59:29\n"
          ]
        }
      ]
    },
    {
      "cell_type": "code",
      "source": [
        "#from lec 8 recursive method by divde and conquer method\n",
        "\n",
        "def find_max(arr):\n",
        "\n",
        "\n",
        "    if len(arr) == 1:\n",
        "        return arr[0]\n",
        "    else:\n",
        "        # Divide the list into two halves\n",
        "        mid = len(arr) // 2\n",
        "        left_max = find_max(arr[:mid])\n",
        "        right_max = find_max(arr[mid:])\n",
        "        # Combine: return the maximum of the two\n",
        "        return max(left_max, right_max)\n",
        "\n",
        "lst = [8, 3, 10, 7, 15, 2, 19, 1, 39,68,91,23,30]\n",
        "print(find_max(lst))"
      ],
      "metadata": {
        "colab": {
          "base_uri": "https://localhost:8080/"
        },
        "id": "PUmeS3e9BsXO",
        "outputId": "306714e4-ba33-4208-f520-37c452e0fb1c"
      },
      "execution_count": 3,
      "outputs": [
        {
          "output_type": "stream",
          "name": "stdout",
          "text": [
            "91\n"
          ]
        }
      ]
    },
    {
      "cell_type": "code",
      "source": [
        "#lec9 from given slide hw\n",
        "#  Create a list of 10 integers\n",
        "numbers = [5, 12, 7, 19, 3, 22, 1, 8, 14, 10]\n",
        "print(\"Original list:\", numbers)\n",
        "\n",
        "#  Append an element to the list\n",
        "numbers.append(25)\n",
        "print(\"After appending 25:\", numbers)\n",
        "\n",
        "#  Insert an element at a specific position\n",
        "numbers.insert(3, 99)\n",
        "print(\"After inserting 99 at index 3:\", numbers)\n",
        "\n",
        "#  Remove an element from the list (e.g., remove the number 22)\n",
        "numbers.remove(22)\n",
        "print(\"After removing 22:\", numbers)\n",
        "\n",
        "# Pop an element from a specific position (e.g., index 5)\n",
        "popped_element = numbers.pop(5)\n",
        "print(f\"After popping element at index 5 ({popped_element}):\", numbers)\n",
        "\n"
      ],
      "metadata": {
        "colab": {
          "base_uri": "https://localhost:8080/"
        },
        "id": "FvRhgoMnBz6F",
        "outputId": "3da8fda9-ca36-4bda-efaf-590709f6cc1e"
      },
      "execution_count": 4,
      "outputs": [
        {
          "output_type": "stream",
          "name": "stdout",
          "text": [
            "Original list: [5, 12, 7, 19, 3, 22, 1, 8, 14, 10]\n",
            "After appending 25: [5, 12, 7, 19, 3, 22, 1, 8, 14, 10, 25]\n",
            "After inserting 99 at index 3: [5, 12, 7, 99, 19, 3, 22, 1, 8, 14, 10, 25]\n",
            "After removing 22: [5, 12, 7, 99, 19, 3, 1, 8, 14, 10, 25]\n",
            "After popping element at index 5 (3): [5, 12, 7, 99, 19, 1, 8, 14, 10, 25]\n"
          ]
        }
      ]
    },
    {
      "cell_type": "code",
      "source": [
        "#lec 10\n",
        "class Student:\n",
        "\n",
        "    def __init__(self, name, marks):\n",
        "        self.name = name\n",
        "        self.marks = marks\n",
        "\n",
        "\n",
        "    def display(self):\n",
        "        print(f\"Name: {self.name}, Marks: {self.marks}\")\n",
        "\n",
        "    def has_passed(self):\n",
        "        if self.marks >= 40:\n",
        "            print(f\"{self.name} has passed!\")\n",
        "        else:\n",
        "            print(f\"{self.name} has failed.\")\n",
        "\n",
        "\n",
        "student1 = Student(\"Alvi\", 75)\n",
        "student2 = Student(\"Muntaha \", 70)\n",
        "\n",
        "\n",
        "student1.display()\n",
        "student1.has_passed()\n",
        "\n",
        "student2.display()\n",
        "student2.has_passed()\n"
      ],
      "metadata": {
        "colab": {
          "base_uri": "https://localhost:8080/"
        },
        "id": "frHqsYRxB6nd",
        "outputId": "02c1bf6e-8950-467f-ec55-85e060889a89"
      },
      "execution_count": 5,
      "outputs": [
        {
          "output_type": "stream",
          "name": "stdout",
          "text": [
            "Name: Alvi, Marks: 75\n",
            "Alvi has passed!\n",
            "Name: Muntaha , Marks: 70\n",
            "Muntaha  has passed!\n"
          ]
        }
      ]
    }
  ]
}